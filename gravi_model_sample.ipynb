{
 "cells": [
  {
   "cell_type": "code",
   "execution_count": 11,
   "id": "945b5cbe",
   "metadata": {},
   "outputs": [],
   "source": [
    "# импортируем библиотеки и загружаем данные\n",
    "\n",
    "import pandas as pd\n",
    "\n",
    "df1 = \n",
    "df2 = "
   ]
  },
  {
   "cell_type": "code",
   "execution_count": 3,
   "id": "44306984",
   "metadata": {},
   "outputs": [
    {
     "data": {
      "text/plain": [
       "Ellipsis"
      ]
     },
     "metadata": {},
     "output_type": "display_data"
    },
    {
     "data": {
      "text/plain": [
       "Ellipsis"
      ]
     },
     "metadata": {},
     "output_type": "display_data"
    }
   ],
   "source": [
    "# проверяем правильность загрузки\n",
    "\n",
    "display(...)\n",
    "display(...)"
   ]
  },
  {
   "cell_type": "code",
   "execution_count": 15,
   "id": "36ea6d63",
   "metadata": {},
   "outputs": [],
   "source": [
    "# присоединяем данные по населению городов к матрице расстояний\n",
    "# перед этим может потребоваться привести к одному виду наименование полей-\"ключей\"\n",
    "\n",
    "#df1.rename(columns={'name1':'name2'}, inplace=True)\n",
    "df2 = df1.merge(...)"
   ]
  },
  {
   "cell_type": "code",
   "execution_count": 2,
   "id": "e27e1495",
   "metadata": {},
   "outputs": [],
   "source": [
    "# проверка правильности присоединения\n",
    "\n"
   ]
  },
  {
   "cell_type": "code",
   "execution_count": 18,
   "id": "9f4daf93",
   "metadata": {},
   "outputs": [],
   "source": [
    "# расчет потенциала: население города разделить на расстояние до него в квадрате\n",
    "\n",
    "df2['w'] = "
   ]
  },
  {
   "cell_type": "code",
   "execution_count": 1,
   "id": "f76ad3a7",
   "metadata": {},
   "outputs": [],
   "source": [
    "# проверка правильности расчетов\n",
    "\n"
   ]
  },
  {
   "cell_type": "code",
   "execution_count": 22,
   "id": "bc439097",
   "metadata": {},
   "outputs": [],
   "source": [
    "# с помощью сводных таблиц считаем максимальный потенциал\n",
    "\n",
    "df2_pivot = df.pivot_table(...)"
   ]
  },
  {
   "cell_type": "code",
   "execution_count": 4,
   "id": "aa6a5fe6",
   "metadata": {},
   "outputs": [],
   "source": [
    "# проверка правильности расчетов\n",
    "\n"
   ]
  },
  {
   "cell_type": "code",
   "execution_count": 26,
   "id": "1964d3e7",
   "metadata": {},
   "outputs": [],
   "source": [
    "# присоединяем описание городов по значению потенциала\n",
    "\n",
    "df2_pivot_stat = df2_pivot.merge(...)"
   ]
  },
  {
   "cell_type": "code",
   "execution_count": 5,
   "id": "c047d2f6",
   "metadata": {},
   "outputs": [],
   "source": [
    "# проверка правильности присоединения\n",
    "\n"
   ]
  },
  {
   "cell_type": "code",
   "execution_count": 28,
   "id": "91a577a3",
   "metadata": {},
   "outputs": [],
   "source": [
    "# выгрузка результатов в csv\n",
    "\n",
    "df2_pivot_stat.to_csv(...)"
   ]
  },
  {
   "cell_type": "code",
   "execution_count": null,
   "id": "9862d15c",
   "metadata": {},
   "outputs": [],
   "source": []
  }
 ],
 "metadata": {
  "kernelspec": {
   "display_name": "Python 3 (ipykernel)",
   "language": "python",
   "name": "python3"
  },
  "language_info": {
   "codemirror_mode": {
    "name": "ipython",
    "version": 3
   },
   "file_extension": ".py",
   "mimetype": "text/x-python",
   "name": "python",
   "nbconvert_exporter": "python",
   "pygments_lexer": "ipython3",
   "version": "3.9.7"
  }
 },
 "nbformat": 4,
 "nbformat_minor": 5
}
